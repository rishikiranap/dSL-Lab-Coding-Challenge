{
  "cells": [
    {
      "cell_type": "markdown",
      "metadata": {
        "colab_type": "text",
        "id": "view-in-github"
      },
      "source": [
        "<a href=\"https://colab.research.google.com/github/dslmllab/dSL-Lab-Coding-Challenge/blob/main/11_student_teacher_network.ipynb\" target=\"_parent\"><img src=\"https://colab.research.google.com/assets/colab-badge.svg\" alt=\"Open In Colab\"/></a>"
      ]
    },
    {
      "cell_type": "markdown",
      "metadata": {
        "id": "8-GKWNicnfUc"
      },
      "source": [
        "# Student-Teacher Network for MNIST Classification\n",
        "\n",
        "## Learning Objectives\n",
        "\n",
        "By the end of this notebook, you will be able to:\n",
        "\n",
        "* Train a teacher network to classify the MNIST dataset\n",
        "* Understand knowledge distillation and how the student network learns from the teacher\n",
        "* Implement and compare different student architectures\n",
        "* Analyze the performance trade-offs between model size and accuracy"
      ]
    },
    {
      "cell_type": "markdown",
      "metadata": {
        "id": "CndxEPm9nfUd"
      },
      "source": [
        "## 1. Introduction to Knowledge Distillation\n",
        "\n",
        "Knowledge distillation is a technique where a smaller \"student\" model learns to mimic a larger \"teacher\" model. The student learns not just from the hard labels (correct classes) but also from the soft probabilities output by the teacher.\n",
        "\n",
        "### Why Knowledge Distillation?\n",
        "- **Model Compression**: Deploy smaller models on edge devices\n",
        "- **Faster Inference**: Reduced computation time\n",
        "- **Knowledge Transfer**: Student learns richer representations from teacher's outputs"
      ]
    },
    {
      "cell_type": "markdown",
      "metadata": {
        "id": "gWLlXWRenfUd"
      },
      "source": [
        "## 2. Setup and Imports"
      ]
    },
    {
      "cell_type": "code",
      "execution_count": 3,
      "metadata": {
        "colab": {
          "base_uri": "https://localhost:8080/"
        },
        "id": "fOcidpklnfUd",
        "outputId": "0b54702c-a0f9-46b6-88ea-d52ccb37919f"
      },
      "outputs": [
        {
          "name": "stdout",
          "output_type": "stream",
          "text": [
            "Requirement already satisfied: numpy in /Users/expansionislife/Library/Python/3.9/lib/python/site-packages (1.26.4)\n",
            "Requirement already satisfied: pandas in /Users/expansionislife/Library/Python/3.9/lib/python/site-packages (2.3.0)\n",
            "Requirement already satisfied: matplotlib in /Users/expansionislife/Library/Python/3.9/lib/python/site-packages (3.9.4)\n",
            "Requirement already satisfied: seaborn in /Users/expansionislife/Library/Python/3.9/lib/python/site-packages (0.13.2)\n",
            "Requirement already satisfied: torch in /Users/expansionislife/Library/Python/3.9/lib/python/site-packages (2.7.1)\n",
            "Requirement already satisfied: tqdm in /Users/expansionislife/Library/Python/3.9/lib/python/site-packages (4.65.0)\n",
            "Requirement already satisfied: scikit-learn in /Users/expansionislife/Library/Python/3.9/lib/python/site-packages (1.6.1)\n",
            "Collecting torchvision\n",
            "  Downloading torchvision-0.22.1-cp39-cp39-macosx_11_0_arm64.whl.metadata (6.1 kB)\n",
            "Requirement already satisfied: python-dateutil>=2.8.2 in /Users/expansionislife/Library/Python/3.9/lib/python/site-packages (from pandas) (2.9.0.post0)\n",
            "Requirement already satisfied: pytz>=2020.1 in /Users/expansionislife/Library/Python/3.9/lib/python/site-packages (from pandas) (2025.2)\n",
            "Requirement already satisfied: tzdata>=2022.7 in /Users/expansionislife/Library/Python/3.9/lib/python/site-packages (from pandas) (2025.2)\n",
            "Requirement already satisfied: contourpy>=1.0.1 in /Users/expansionislife/Library/Python/3.9/lib/python/site-packages (from matplotlib) (1.3.0)\n",
            "Requirement already satisfied: cycler>=0.10 in /Users/expansionislife/Library/Python/3.9/lib/python/site-packages (from matplotlib) (0.12.1)\n",
            "Requirement already satisfied: fonttools>=4.22.0 in /Users/expansionislife/Library/Python/3.9/lib/python/site-packages (from matplotlib) (4.58.5)\n",
            "Requirement already satisfied: kiwisolver>=1.3.1 in /Users/expansionislife/Library/Python/3.9/lib/python/site-packages (from matplotlib) (1.4.7)\n",
            "Requirement already satisfied: packaging>=20.0 in /Users/expansionislife/Library/Python/3.9/lib/python/site-packages (from matplotlib) (25.0)\n",
            "Requirement already satisfied: pillow>=8 in /Users/expansionislife/Library/Python/3.9/lib/python/site-packages (from matplotlib) (11.3.0)\n",
            "Requirement already satisfied: pyparsing>=2.3.1 in /Users/expansionislife/Library/Python/3.9/lib/python/site-packages (from matplotlib) (3.2.3)\n",
            "Requirement already satisfied: importlib-resources>=3.2.0 in /Users/expansionislife/Library/Python/3.9/lib/python/site-packages (from matplotlib) (6.5.2)\n",
            "Requirement already satisfied: filelock in /Users/expansionislife/Library/Python/3.9/lib/python/site-packages (from torch) (3.18.0)\n",
            "Requirement already satisfied: typing-extensions>=4.10.0 in /Users/expansionislife/Library/Python/3.9/lib/python/site-packages (from torch) (4.14.1)\n",
            "Requirement already satisfied: sympy>=1.13.3 in /Users/expansionislife/Library/Python/3.9/lib/python/site-packages (from torch) (1.14.0)\n",
            "Requirement already satisfied: networkx in /Users/expansionislife/Library/Python/3.9/lib/python/site-packages (from torch) (3.2.1)\n",
            "Requirement already satisfied: jinja2 in /Users/expansionislife/Library/Python/3.9/lib/python/site-packages (from torch) (3.1.6)\n",
            "Requirement already satisfied: fsspec in /Users/expansionislife/Library/Python/3.9/lib/python/site-packages (from torch) (2025.5.1)\n",
            "Requirement already satisfied: scipy>=1.6.0 in /Users/expansionislife/Library/Python/3.9/lib/python/site-packages (from scikit-learn) (1.13.1)\n",
            "Requirement already satisfied: joblib>=1.2.0 in /Users/expansionislife/Library/Python/3.9/lib/python/site-packages (from scikit-learn) (1.5.1)\n",
            "Requirement already satisfied: threadpoolctl>=3.1.0 in /Users/expansionislife/Library/Python/3.9/lib/python/site-packages (from scikit-learn) (3.6.0)\n",
            "Requirement already satisfied: zipp>=3.1.0 in /Users/expansionislife/Library/Python/3.9/lib/python/site-packages (from importlib-resources>=3.2.0->matplotlib) (3.23.0)\n",
            "Requirement already satisfied: six>=1.5 in /Users/expansionislife/Library/Python/3.9/lib/python/site-packages (from python-dateutil>=2.8.2->pandas) (1.17.0)\n",
            "Requirement already satisfied: mpmath<1.4,>=1.1.0 in /Users/expansionislife/Library/Python/3.9/lib/python/site-packages (from sympy>=1.13.3->torch) (1.3.0)\n",
            "Requirement already satisfied: MarkupSafe>=2.0 in /Users/expansionislife/Library/Python/3.9/lib/python/site-packages (from jinja2->torch) (3.0.2)\n",
            "Downloading torchvision-0.22.1-cp39-cp39-macosx_11_0_arm64.whl (1.9 MB)\n",
            "\u001b[2K   \u001b[90m━━━━━━━━━━━━━━━━━━━━━━━━━━━━━━━━━━━━━━━━\u001b[0m \u001b[32m1.9/1.9 MB\u001b[0m \u001b[31m13.5 MB/s\u001b[0m eta \u001b[36m0:00:00\u001b[0ma \u001b[36m0:00:01\u001b[0m\n",
            "\u001b[?25hInstalling collected packages: torchvision\n",
            "Successfully installed torchvision-0.22.1\n",
            "\n",
            "\u001b[1m[\u001b[0m\u001b[34;49mnotice\u001b[0m\u001b[1;39;49m]\u001b[0m\u001b[39;49m A new release of pip is available: \u001b[0m\u001b[31;49m23.3.2\u001b[0m\u001b[39;49m -> \u001b[0m\u001b[32;49m25.1.1\u001b[0m\n",
            "\u001b[1m[\u001b[0m\u001b[34;49mnotice\u001b[0m\u001b[1;39;49m]\u001b[0m\u001b[39;49m To update, run: \u001b[0m\u001b[32;49mpip install --upgrade pip\u001b[0m\n"
          ]
        }
      ],
      "source": [
        "# Install required packages\n",
        "\n",
        "!pip install numpy pandas matplotlib seaborn torch tqdm scikit-learn torchvision"
      ]
    },
    {
      "cell_type": "code",
      "execution_count": 3,
      "metadata": {
        "ExecuteTime": {
          "end_time": "2025-07-02T02:14:25.418324Z",
          "start_time": "2025-07-02T02:14:25.379303Z"
        },
        "colab": {
          "base_uri": "https://localhost:8080/"
        },
        "id": "kC90ICRFnfUd",
        "outputId": "43323c80-a29c-4a5d-934d-ec579ab2eb53"
      },
      "outputs": [
        {
          "name": "stdout",
          "output_type": "stream",
          "text": [
            "Using device: cpu\n"
          ]
        }
      ],
      "source": [
        "import numpy as np\n",
        "import torch\n",
        "import torch.nn as nn\n",
        "import torch.nn.functional as F\n",
        "import torchvision\n",
        "import torchvision.datasets as dsets\n",
        "import torchvision.transforms as transforms\n",
        "from torch.autograd import Variable\n",
        "import matplotlib.pyplot as plt\n",
        "from tqdm import tqdm\n",
        "\n",
        "# Set random seed for reproducibility\n",
        "torch.manual_seed(42)\n",
        "np.random.seed(42)\n",
        "\n",
        "# Check if CUDA is available\n",
        "device = torch.device(\"cuda:0\" if torch.cuda.is_available() else \"cpu\")\n",
        "print(f\"Using device: {device}\")"
      ]
    },
    {
      "cell_type": "markdown",
      "metadata": {
        "id": "fWzZ3BionfUe"
      },
      "source": [
        "## 3. Hyperparameters"
      ]
    },
    {
      "cell_type": "code",
      "execution_count": 14,
      "metadata": {
        "id": "r2Bfeu3UnfUe"
      },
      "outputs": [],
      "source": [
        "# Training hyperparameters\n",
        "num_epochs = 5\n",
        "batch_size = 100\n",
        "learning_rate = 0.001\n",
        "\n",
        "# Knowledge distillation hyperparameters\n",
        "temperature = 3.0  # Temperature for softening probability distributions\n",
        "alpha = 0.7       # Weight for distillation loss vs hard target loss"
      ]
    },
    {
      "cell_type": "markdown",
      "metadata": {
        "id": "urDsm_IlnfUe"
      },
      "source": [
        "## 4. Dataset Preparation\n",
        "\n",
        "MNIST dataset contains 60,000 training images and 10,000 test images of handwritten digits (0-9). Each image is 28x28 pixels."
      ]
    },
    {
      "cell_type": "code",
      "execution_count": 15,
      "metadata": {
        "colab": {
          "base_uri": "https://localhost:8080/"
        },
        "id": "KGTKEVLSnfUe",
        "outputId": "c9855a47-e11d-49f3-9f6e-c3b896766da6"
      },
      "outputs": [
        {
          "name": "stdout",
          "output_type": "stream",
          "text": [
            "Training samples: 60000\n",
            "Test samples: 10000\n"
          ]
        }
      ],
      "source": [
        "# Download and prepare MNIST dataset\n",
        "train_dataset = dsets.MNIST(root='./data/',\n",
        "                            train=True,\n",
        "                            transform=transforms.ToTensor(),\n",
        "                            download=True)\n",
        "\n",
        "test_dataset = dsets.MNIST(root='./data/',\n",
        "                           train=False,\n",
        "                           transform=transforms.ToTensor())\n",
        "\n",
        "# Create data loaders\n",
        "train_loader = torch.utils.data.DataLoader(dataset=train_dataset,\n",
        "                                           batch_size=batch_size,\n",
        "                                           shuffle=True)\n",
        "\n",
        "test_loader = torch.utils.data.DataLoader(dataset=test_dataset,\n",
        "                                          batch_size=batch_size,\n",
        "                                          shuffle=False)\n",
        "\n",
        "print(f\"Training samples: {len(train_dataset)}\")\n",
        "print(f\"Test samples: {len(test_dataset)}\")"
      ]
    },
    {
      "cell_type": "markdown",
      "metadata": {
        "id": "7BItBK4QnfUe"
      },
      "source": [
        "## 5. Visualize Sample Data"
      ]
    },
    {
      "cell_type": "code",
      "execution_count": 16,
      "metadata": {
        "colab": {
          "base_uri": "https://localhost:8080/",
          "height": 560
        },
        "id": "bu4Tz-PanfUe",
        "outputId": "4822a308-a694-486d-e281-59e5f4099ab6"
      },
      "outputs": [
        {
          "data": {
            "image/png": "[encoded data removed]",
            "text/plain": [
              "<Figure size 1200x600 with 10 Axes>"
            ]
          },
          "metadata": {},
          "output_type": "display_data"
        }
      ],
      "source": [
        "# Visualize some samples\n",
        "fig, axes = plt.subplots(2, 5, figsize=(12, 6))\n",
        "for i, ax in enumerate(axes.flat):\n",
        "    img, label = train_dataset[i]\n",
        "    ax.imshow(img.squeeze(), cmap='gray')\n",
        "    ax.set_title(f'Label: {label}')\n",
        "    ax.axis('off')\n",
        "plt.tight_layout()\n",
        "plt.show()"
      ]
    },
    {
      "cell_type": "markdown",
      "metadata": {
        "id": "-3XXl0E6nfUf"
      },
      "source": [
        "## 6. Model Architectures\n",
        "\n",
        "### Teacher Network\n",
        "A larger, more complex network with multiple convolutional layers."
      ]
    },
    {
      "cell_type": "code",
      "execution_count": 17,
      "metadata": {
        "colab": {
          "base_uri": "https://localhost:8080/"
        },
        "id": "JtMchmyWnfUf",
        "outputId": "a924a93e-6781-4f36-e318-d58c81667084"
      },
      "outputs": [
        {
          "name": "stdout",
          "output_type": "stream",
          "text": [
            "Teacher Network Parameters: 481,214\n"
          ]
        }
      ],
      "source": [
        "class Teacher(nn.Module):\n",
        "    def __init__(self):\n",
        "        super(Teacher, self).__init__()\n",
        "        self.layer1 = nn.Sequential(\n",
        "            nn.Conv2d(1, 16, kernel_size=5, padding=2),\n",
        "            nn.BatchNorm2d(16),\n",
        "            nn.ReLU())\n",
        "        self.layer2 = nn.Sequential(\n",
        "            nn.Conv2d(16, 16, kernel_size=3, padding=1),\n",
        "            nn.BatchNorm2d(16),\n",
        "            nn.ReLU(),\n",
        "            nn.MaxPool2d(2))\n",
        "        self.layer3 = nn.Sequential(\n",
        "            nn.Conv2d(16, 32, kernel_size=3, padding=1),\n",
        "            nn.BatchNorm2d(32),\n",
        "            nn.ReLU(),\n",
        "            nn.MaxPool2d(2))\n",
        "        self.fc1 = nn.Linear(7*7*32, 300)\n",
        "        self.fc2 = nn.Linear(300, 10)\n",
        "        self.dropout = nn.Dropout(0.5)\n",
        "\n",
        "    def forward(self, x):\n",
        "        out = self.layer1(x)\n",
        "        out = self.layer2(out)\n",
        "        out = self.layer3(out)\n",
        "        out = out.view(out.size(0), -1)\n",
        "        out = F.relu(self.fc1(out))\n",
        "        out = self.dropout(out)\n",
        "        out = self.fc2(out)\n",
        "        return out\n",
        "\n",
        "# Calculate teacher model parameters\n",
        "teacher_model = Teacher()\n",
        "teacher_params = sum(p.numel() for p in teacher_model.parameters())\n",
        "print(f\"Teacher Network Parameters: {teacher_params:,}\")"
      ]
    },
    {
      "cell_type": "markdown",
      "metadata": {
        "id": "ezZCPBkXnfUf"
      },
      "source": [
        "### Student Network\n",
        "A smaller, simpler network that will learn from the teacher."
      ]
    },
    {
      "cell_type": "code",
      "execution_count": 18,
      "metadata": {
        "colab": {
          "base_uri": "https://localhost:8080/"
        },
        "id": "K4Ie98XvnfUf",
        "outputId": "7c1c4009-dc4f-4b7d-ba86-931eb3169758"
      },
      "outputs": [
        {
          "name": "stdout",
          "output_type": "stream",
          "text": [
            "Student Network Parameters: 31,562\n",
            "Compression Ratio: 15.25x\n"
          ]
        }
      ],
      "source": [
        "class Student(nn.Module):\n",
        "    def __init__(self):\n",
        "        super(Student, self).__init__()\n",
        "        self.layer1 = nn.Sequential(\n",
        "            nn.Conv2d(1, 16, kernel_size=3, padding=1),\n",
        "            nn.BatchNorm2d(16),\n",
        "            nn.ReLU(),\n",
        "            nn.MaxPool2d(2))\n",
        "        self.fc1 = nn.Linear(14*14*16, 10)\n",
        "\n",
        "    def forward(self, x):\n",
        "        out = self.layer1(x)\n",
        "        out = out.view(out.size(0), -1)\n",
        "        out = self.fc1(out)\n",
        "        return out\n",
        "\n",
        "# Calculate student model parameters\n",
        "student_model = Student()\n",
        "student_params = sum(p.numel() for p in student_model.parameters())\n",
        "print(f\"Student Network Parameters: {student_params:,}\")\n",
        "print(f\"Compression Ratio: {teacher_params/student_params:.2f}x\")"
      ]
    },
    {
      "cell_type": "code",
      "execution_count": null,
      "metadata": {},
      "outputs": [],
      "source": []
    },
    {
      "cell_type": "markdown",
      "metadata": {
        "id": "J1qAG6rynfUf"
      },
      "source": [
        "## 7. Training Functions"
      ]
    },
    {
      "cell_type": "code",
      "execution_count": 19,
      "metadata": {
        "id": "9J2IfxL_nfUf"
      },
      "outputs": [],
      "source": [
        "def train_model(model, train_loader, criterion, optimizer, num_epochs, model_name=\"Model\"):\n",
        "    \"\"\"Standard training function for any model\"\"\"\n",
        "    model.train()\n",
        "    train_losses = []\n",
        "    train_accuracies = []\n",
        "\n",
        "    for epoch in range(num_epochs):\n",
        "        total_loss = 0\n",
        "        correct = 0\n",
        "        total = 0\n",
        "\n",
        "        progress_bar = tqdm(train_loader, desc=f'Epoch {epoch+1}/{num_epochs}')\n",
        "        for images, labels in progress_bar:\n",
        "            images = images.to(device)\n",
        "            labels = labels.to(device)\n",
        "\n",
        "            # Forward pass\n",
        "            outputs = model(images)\n",
        "            loss = criterion(outputs, labels)\n",
        "\n",
        "            # Backward pass\n",
        "            optimizer.zero_grad()\n",
        "            loss.backward()\n",
        "            optimizer.step()\n",
        "\n",
        "            total_loss += loss.item()\n",
        "            _, predicted = torch.max(outputs.data, 1)\n",
        "            total += labels.size(0)\n",
        "            correct += (predicted == labels).sum().item()\n",
        "\n",
        "            # Update progress bar\n",
        "            progress_bar.set_postfix({'loss': loss.item(), 'acc': 100.*correct/total})\n",
        "\n",
        "        avg_loss = total_loss / len(train_loader)\n",
        "        accuracy = 100. * correct / total\n",
        "        train_losses.append(avg_loss)\n",
        "        train_accuracies.append(accuracy)\n",
        "\n",
        "        print(f'{model_name} - Epoch [{epoch+1}/{num_epochs}], Loss: {avg_loss:.4f}, Accuracy: {accuracy:.2f}%')\n",
        "\n",
        "    return train_losses, train_accuracies\n",
        "\n",
        "def test_model(model, test_loader, model_name=\"Model\"):\n",
        "    \"\"\"Test function for any model\"\"\"\n",
        "    model.eval()\n",
        "    correct = 0\n",
        "    total = 0\n",
        "\n",
        "    with torch.no_grad():\n",
        "        for images, labels in test_loader:\n",
        "            images = images.to(device)\n",
        "            labels = labels.to(device)\n",
        "            outputs = model(images)\n",
        "            _, predicted = torch.max(outputs.data, 1)\n",
        "            total += labels.size(0)\n",
        "            correct += (predicted == labels).sum().item()\n",
        "\n",
        "    accuracy = 100. * correct / total\n",
        "    print(f'{model_name} - Test Accuracy: {accuracy:.2f}%')\n",
        "    return accuracy"
      ]
    },
    {
      "cell_type": "markdown",
      "metadata": {
        "id": "ZvIRsG0AnfUf"
      },
      "source": [
        "## 8. Train Teacher Network"
      ]
    },
    {
      "cell_type": "code",
      "execution_count": 26,
      "metadata": {
        "colab": {
          "base_uri": "https://localhost:8080/"
        },
        "id": "8JuypL8ynfUf",
        "outputId": "7caf69de-d2c3-4fad-aaef-b36a8a91de2e"
      },
      "outputs": [
        {
          "name": "stdout",
          "output_type": "stream",
          "text": [
            "Training Teacher Network...\n"
          ]
        },
        {
          "name": "stderr",
          "output_type": "stream",
          "text": [
            "Epoch 1/5: 100%|██████████| 600/600 [00:54<00:00, 11.08it/s, loss=0.0275, acc=95]   \n"
          ]
        },
        {
          "name": "stdout",
          "output_type": "stream",
          "text": [
            "Teacher - Epoch [1/5], Loss: 0.1625, Accuracy: 94.97%\n"
          ]
        },
        {
          "name": "stderr",
          "output_type": "stream",
          "text": [
            "Epoch 2/5: 100%|██████████| 600/600 [00:54<00:00, 11.03it/s, loss=0.0295, acc=98.1]\n"
          ]
        },
        {
          "name": "stdout",
          "output_type": "stream",
          "text": [
            "Teacher - Epoch [2/5], Loss: 0.0630, Accuracy: 98.06%\n"
          ]
        },
        {
          "name": "stderr",
          "output_type": "stream",
          "text": [
            "Epoch 3/5: 100%|██████████| 600/600 [00:54<00:00, 11.07it/s, loss=0.0576, acc=98.6] \n"
          ]
        },
        {
          "name": "stdout",
          "output_type": "stream",
          "text": [
            "Teacher - Epoch [3/5], Loss: 0.0479, Accuracy: 98.56%\n"
          ]
        },
        {
          "name": "stderr",
          "output_type": "stream",
          "text": [
            "Epoch 4/5: 100%|██████████| 600/600 [00:54<00:00, 10.98it/s, loss=0.00391, acc=98.7]\n"
          ]
        },
        {
          "name": "stdout",
          "output_type": "stream",
          "text": [
            "Teacher - Epoch [4/5], Loss: 0.0407, Accuracy: 98.73%\n"
          ]
        },
        {
          "name": "stderr",
          "output_type": "stream",
          "text": [
            "Epoch 5/5: 100%|██████████| 600/600 [00:54<00:00, 10.99it/s, loss=0.00936, acc=98.9] \n"
          ]
        },
        {
          "name": "stdout",
          "output_type": "stream",
          "text": [
            "Teacher - Epoch [5/5], Loss: 0.0351, Accuracy: 98.91%\n",
            "Teacher - Test Accuracy: 99.25%\n"
          ]
        }
      ],
      "source": [
        "# Initialize teacher\n",
        "teacher = Teacher().to(device)\n",
        "criterion = nn.CrossEntropyLoss()\n",
        "optimizer = torch.optim.Adam(teacher.parameters(), lr=learning_rate)\n",
        "\n",
        "# Train teacher\n",
        "print(\"Training Teacher Network...\")\n",
        "teacher_losses, teacher_accs = train_model(teacher, train_loader, criterion, optimizer, num_epochs, \"Teacher\")\n",
        "\n",
        "# Test teacher\n",
        "teacher_accuracy = test_model(teacher, test_loader, \"Teacher\")"
      ]
    },
    {
      "cell_type": "markdown",
      "metadata": {
        "id": "EFYGFGjenfUf"
      },
      "source": [
        "## 9. Knowledge Distillation Training\n",
        "\n",
        "Now we'll train the student using knowledge distillation. The student learns from:\n",
        "1. **Hard targets**: The true labels (standard cross-entropy loss)\n",
        "2. **Soft targets**: The teacher's output probabilities (KL divergence loss)"
      ]
    },
    {
      "cell_type": "code",
      "execution_count": 21,
      "metadata": {
        "id": "Q2kbHW4UnfUf"
      },
      "outputs": [],
      "source": [
        "def train_student_distillation(student, teacher, train_loader, num_epochs, temperature=3.0, alpha=0.7):\n",
        "    \"\"\"Train student using knowledge distillation\"\"\"\n",
        "    student.train()\n",
        "    teacher.eval()  # Teacher in evaluation mode\n",
        "\n",
        "    # Freeze teacher parameters\n",
        "    for param in teacher.parameters():\n",
        "        param.requires_grad = False\n",
        "\n",
        "    criterion_hard = nn.CrossEntropyLoss()\n",
        "    optimizer = torch.optim.Adam(student.parameters(), lr=learning_rate)\n",
        "\n",
        "    train_losses = []\n",
        "    train_accuracies = []\n",
        "\n",
        "    for epoch in range(num_epochs):\n",
        "        total_loss = 0\n",
        "        correct = 0\n",
        "        total = 0\n",
        "\n",
        "        progress_bar = tqdm(train_loader, desc=f'Epoch {epoch+1}/{num_epochs}')\n",
        "        for images, labels in progress_bar:\n",
        "            images = images.to(device)\n",
        "            labels = labels.to(device)\n",
        "\n",
        "            # Get teacher outputs\n",
        "            with torch.no_grad():\n",
        "                teacher_outputs = teacher(images)\n",
        "\n",
        "            # Get student outputs\n",
        "            student_outputs = student(images)\n",
        "\n",
        "            # Calculate losses\n",
        "            loss_hard = criterion_hard(student_outputs, labels)\n",
        "\n",
        "            # 2. Soft target loss (KL divergence)\n",
        "            T = temperature\n",
        "            loss_soft = nn.KLDivLoss(reduction='batchmean')(\n",
        "                F.log_softmax(student_outputs / T, dim=1),\n",
        "                F.softmax(teacher_outputs / T, dim=1)\n",
        "            ) * (T * T)\n",
        "\n",
        "            # Combined loss\n",
        "            loss = alpha * loss_hard + (1 - alpha) * loss_soft\n",
        "\n",
        "            # Backward pass\n",
        "            optimizer.zero_grad()\n",
        "            loss.backward()\n",
        "            optimizer.step()\n",
        "\n",
        "            total_loss += loss.item()\n",
        "            _, predicted = torch.max(student_outputs.data, 1)\n",
        "            total += labels.size(0)\n",
        "            correct += (predicted == labels).sum().item()\n",
        "\n",
        "            progress_bar.set_postfix({'loss': loss.item(), 'acc': 100.*correct/total})\n",
        "\n",
        "        avg_loss = total_loss / len(train_loader)\n",
        "        accuracy = 100. * correct / total\n",
        "        train_losses.append(avg_loss)\n",
        "        train_accuracies.append(accuracy)\n",
        "\n",
        "        print(f'Student (Distilled) - Epoch [{epoch+1}/{num_epochs}], Loss: {avg_loss:.4f}, Accuracy: {accuracy:.2f}%')\n",
        "\n",
        "    return train_losses, train_accuracies"
      ]
    },
    {
      "cell_type": "code",
      "execution_count": 22,
      "metadata": {
        "colab": {
          "base_uri": "https://localhost:8080/"
        },
        "id": "2Vo6SPtcnfUg",
        "outputId": "5a9527b0-2ec0-4ace-ddfe-b1d575a81598"
      },
      "outputs": [
        {
          "name": "stdout",
          "output_type": "stream",
          "text": [
            "\n",
            "Training Student Network with Knowledge Distillation...\n"
          ]
        },
        {
          "name": "stderr",
          "output_type": "stream",
          "text": [
            "Epoch 1/5: 100%|██████████| 600/600 [00:27<00:00, 21.87it/s, loss=0.173, acc=94.3] \n"
          ]
        },
        {
          "name": "stdout",
          "output_type": "stream",
          "text": [
            "Student (Distilled) - Epoch [1/5], Loss: 0.3670, Accuracy: 94.25%\n"
          ]
        },
        {
          "name": "stderr",
          "output_type": "stream",
          "text": [
            "Epoch 2/5: 100%|██████████| 600/600 [00:26<00:00, 22.35it/s, loss=0.112, acc=97.6] \n"
          ]
        },
        {
          "name": "stdout",
          "output_type": "stream",
          "text": [
            "Student (Distilled) - Epoch [2/5], Loss: 0.1319, Accuracy: 97.58%\n"
          ]
        },
        {
          "name": "stderr",
          "output_type": "stream",
          "text": [
            "Epoch 3/5: 100%|██████████| 600/600 [00:26<00:00, 22.36it/s, loss=0.133, acc=97.9] \n"
          ]
        },
        {
          "name": "stdout",
          "output_type": "stream",
          "text": [
            "Student (Distilled) - Epoch [3/5], Loss: 0.1179, Accuracy: 97.86%\n"
          ]
        },
        {
          "name": "stderr",
          "output_type": "stream",
          "text": [
            "Epoch 4/5: 100%|██████████| 600/600 [00:26<00:00, 22.62it/s, loss=0.0961, acc=98]  \n"
          ]
        },
        {
          "name": "stdout",
          "output_type": "stream",
          "text": [
            "Student (Distilled) - Epoch [4/5], Loss: 0.1079, Accuracy: 98.01%\n"
          ]
        },
        {
          "name": "stderr",
          "output_type": "stream",
          "text": [
            "Epoch 5/5: 100%|██████████| 600/600 [00:27<00:00, 22.13it/s, loss=0.0765, acc=98.2]\n"
          ]
        },
        {
          "name": "stdout",
          "output_type": "stream",
          "text": [
            "Student (Distilled) - Epoch [5/5], Loss: 0.1013, Accuracy: 98.16%\n",
            "Student (Distilled) - Test Accuracy: 97.92%\n"
          ]
        }
      ],
      "source": [
        "# Initialize student for distillation\n",
        "student_distilled = Student().to(device)\n",
        "\n",
        "# Train student with knowledge distillation\n",
        "print(\"\\nTraining Student Network with Knowledge Distillation...\")\n",
        "distilled_losses, distilled_accs = train_student_distillation(\n",
        "    student_distilled, teacher, train_loader, num_epochs, temperature, alpha\n",
        ")\n",
        "\n",
        "# Test distilled student\n",
        "distilled_accuracy = test_model(student_distilled, test_loader, \"Student (Distilled)\")"
      ]
    },
    {
      "cell_type": "markdown",
      "metadata": {
        "id": "FjrMtqHBnfUg"
      },
      "source": [
        "## 10. Train Student Without Distillation (Baseline)"
      ]
    },
    {
      "cell_type": "code",
      "execution_count": 24,
      "metadata": {
        "colab": {
          "base_uri": "https://localhost:8080/"
        },
        "id": "Slt5TbW1nfUg",
        "outputId": "8b8a9383-69b1-45f0-bf12-5a4d6b264a39"
      },
      "outputs": [
        {
          "name": "stdout",
          "output_type": "stream",
          "text": [
            "\n",
            "Training Student Network WITHOUT Knowledge Distillation (Baseline)...\n"
          ]
        },
        {
          "name": "stderr",
          "output_type": "stream",
          "text": [
            "Epoch 1/5: 100%|██████████| 600/600 [00:15<00:00, 39.86it/s, loss=0.0656, acc=94.1]\n"
          ]
        },
        {
          "name": "stdout",
          "output_type": "stream",
          "text": [
            "Student (Baseline) - Epoch [1/5], Loss: 0.2001, Accuracy: 94.14%\n"
          ]
        },
        {
          "name": "stderr",
          "output_type": "stream",
          "text": [
            "Epoch 2/5: 100%|██████████| 600/600 [00:14<00:00, 40.29it/s, loss=0.0944, acc=97.7]\n"
          ]
        },
        {
          "name": "stdout",
          "output_type": "stream",
          "text": [
            "Student (Baseline) - Epoch [2/5], Loss: 0.0781, Accuracy: 97.70%\n"
          ]
        },
        {
          "name": "stderr",
          "output_type": "stream",
          "text": [
            "Epoch 3/5: 100%|██████████| 600/600 [00:15<00:00, 39.67it/s, loss=0.029, acc=98.2]  \n"
          ]
        },
        {
          "name": "stdout",
          "output_type": "stream",
          "text": [
            "Student (Baseline) - Epoch [3/5], Loss: 0.0595, Accuracy: 98.20%\n"
          ]
        },
        {
          "name": "stderr",
          "output_type": "stream",
          "text": [
            "Epoch 4/5: 100%|██████████| 600/600 [00:15<00:00, 39.77it/s, loss=0.0264, acc=98.5] \n"
          ]
        },
        {
          "name": "stdout",
          "output_type": "stream",
          "text": [
            "Student (Baseline) - Epoch [4/5], Loss: 0.0475, Accuracy: 98.52%\n"
          ]
        },
        {
          "name": "stderr",
          "output_type": "stream",
          "text": [
            "Epoch 5/5: 100%|██████████| 600/600 [00:14<00:00, 40.04it/s, loss=0.0167, acc=98.8] \n"
          ]
        },
        {
          "name": "stdout",
          "output_type": "stream",
          "text": [
            "Student (Baseline) - Epoch [5/5], Loss: 0.0397, Accuracy: 98.76%\n",
            "Student (Baseline) - Test Accuracy: 98.16%\n"
          ]
        }
      ],
      "source": [
        "# Initialize student for baseline training\n",
        "student_baseline = Student().to(device)\n",
        "criterion = nn.CrossEntropyLoss()\n",
        "optimizer = torch.optim.Adam(student_baseline.parameters(), lr=learning_rate)\n",
        "\n",
        "# Train student without distillation\n",
        "print(\"\\nTraining Student Network WITHOUT Knowledge Distillation (Baseline)...\")\n",
        "baseline_losses, baseline_accs = train_model(\n",
        "    student_baseline, train_loader, criterion, optimizer, num_epochs, \"Student (Baseline)\"\n",
        ")\n",
        "\n",
        "# Test baseline student\n",
        "baseline_accuracy = test_model(student_baseline, test_loader, \"Student (Baseline)\")"
      ]
    },
    {
      "cell_type": "markdown",
      "metadata": {
        "id": "Bu9AFGn1nfUg"
      },
      "source": [
        "## 11. Results Comparison"
      ]
    },
    {
      "cell_type": "code",
      "execution_count": 27,
      "metadata": {
        "colab": {
          "base_uri": "https://localhost:8080/",
          "height": 660
        },
        "id": "OvPl_xBYnfUg",
        "outputId": "c45ad220-e826-4c7b-f185-15a51e26cb8c"
      },
      "outputs": [
        {
          "data": {
            "image/png": "[encoded data removed]",
            "text/plain": [
              "<Figure size 1500x500 with 3 Axes>"
            ]
          },
          "metadata": {},
          "output_type": "display_data"
        },
        {
          "name": "stdout",
          "output_type": "stream",
          "text": [
            "\n",
            "=== Summary ===\n",
            "Teacher Parameters: 481,214\n",
            "Student Parameters: 31,562\n",
            "Compression Ratio: 15.25x\n",
            "\n",
            "Test Accuracies:\n",
            "  Teacher: 99.25%\n",
            "  Student (Distilled): 97.92%\n",
            "  Student (Baseline): 98.16%\n",
            "\n",
            "Improvement from Distillation: -0.24%\n"
          ]
        }
      ],
      "source": [
        "# Plot training curves\n",
        "plt.figure(figsize=(15, 5))\n",
        "\n",
        "# Loss curves\n",
        "plt.subplot(1, 3, 1)\n",
        "plt.plot(teacher_losses, label='Teacher', linewidth=2)\n",
        "plt.plot(distilled_losses, label='Student (Distilled)', linewidth=2)\n",
        "plt.plot(baseline_losses, label='Student (Baseline)', linewidth=2)\n",
        "plt.xlabel('Epoch')\n",
        "plt.ylabel('Loss')\n",
        "plt.title('Training Loss Comparison')\n",
        "plt.legend()\n",
        "plt.grid(True)\n",
        "\n",
        "# Accuracy curves\n",
        "plt.subplot(1, 3, 2)\n",
        "plt.plot(teacher_accs, label='Teacher', linewidth=2)\n",
        "plt.plot(distilled_accs, label='Student (Distilled)', linewidth=2)\n",
        "plt.plot(baseline_accs, label='Student (Baseline)', linewidth=2)\n",
        "plt.xlabel('Epoch')\n",
        "plt.ylabel('Accuracy (%)')\n",
        "plt.title('Training Accuracy Comparison')\n",
        "plt.legend()\n",
        "plt.grid(True)\n",
        "\n",
        "# Bar plot of final test accuracies\n",
        "plt.subplot(1, 3, 3)\n",
        "models = ['Teacher', 'Student\\n(Distilled)', 'Student\\n(Baseline)']\n",
        "accuracies = [teacher_accuracy, distilled_accuracy, baseline_accuracy]\n",
        "colors = ['blue', 'green', 'orange']\n",
        "bars = plt.bar(models, accuracies, color=colors)\n",
        "plt.ylabel('Test Accuracy (%)')\n",
        "plt.title('Final Test Accuracy Comparison')\n",
        "plt.ylim(90, 100)\n",
        "\n",
        "# Add value labels on bars\n",
        "for bar, acc in zip(bars, accuracies):\n",
        "    plt.text(bar.get_x() + bar.get_width()/2, bar.get_height() + 0.1,\n",
        "             f'{acc:.2f}%', ha='center', va='bottom')\n",
        "\n",
        "plt.tight_layout()\n",
        "plt.show()\n",
        "\n",
        "# Print summary\n",
        "print(\"\\n=== Summary ===\")\n",
        "print(f\"Teacher Parameters: {teacher_params:,}\")\n",
        "print(f\"Student Parameters: {student_params:,}\")\n",
        "print(f\"Compression Ratio: {teacher_params/student_params:.2f}x\")\n",
        "print(f\"\\nTest Accuracies:\")\n",
        "print(f\"  Teacher: {teacher_accuracy:.2f}%\")\n",
        "print(f\"  Student (Distilled): {distilled_accuracy:.2f}%\")\n",
        "print(f\"  Student (Baseline): {baseline_accuracy:.2f}%\")\n",
        "print(f\"\\nImprovement from Distillation: {distilled_accuracy - baseline_accuracy:.2f}%\")"
      ]
    },
    {
      "cell_type": "markdown",
      "metadata": {
        "id": "ZGdzYjBsnfUg"
      },
      "source": [
        "## 12. Visualize Model Predictions"
      ]
    },
    {
      "cell_type": "code",
      "execution_count": 28,
      "metadata": {
        "colab": {
          "base_uri": "https://localhost:8080/",
          "height": 554
        },
        "id": "NfU91MG3nfUg",
        "outputId": "d93db1c0-003e-4760-b788-9923e17ce38e"
      },
      "outputs": [
        {
          "data": {
            "image/png": "[encoded data removed]",
            "text/plain": [
              "<Figure size 1500x600 with 10 Axes>"
            ]
          },
          "metadata": {},
          "output_type": "display_data"
        }
      ],
      "source": [
        "def visualize_predictions(teacher, student_distilled, student_baseline, test_loader, num_samples=10):\n",
        "    \"\"\"Visualize predictions from all three models\"\"\"\n",
        "    teacher.eval()\n",
        "    student_distilled.eval()\n",
        "    student_baseline.eval()\n",
        "\n",
        "    # Get a batch of test data\n",
        "    images, labels = next(iter(test_loader))\n",
        "    images = images[:num_samples].to(device)\n",
        "    labels = labels[:num_samples]\n",
        "\n",
        "    # Get predictions\n",
        "    with torch.no_grad():\n",
        "        teacher_outputs = teacher(images)\n",
        "        distilled_outputs = student_distilled(images)\n",
        "        baseline_outputs = student_baseline(images)\n",
        "\n",
        "    _, teacher_preds = torch.max(teacher_outputs, 1)\n",
        "    _, distilled_preds = torch.max(distilled_outputs, 1)\n",
        "    _, baseline_preds = torch.max(baseline_outputs, 1)\n",
        "\n",
        "    # Plot\n",
        "    fig, axes = plt.subplots(2, 5, figsize=(15, 6))\n",
        "    for i, ax in enumerate(axes.flat):\n",
        "        if i < num_samples:\n",
        "            img = images[i].cpu().squeeze()\n",
        "            ax.imshow(img, cmap='gray')\n",
        "\n",
        "            # Create title with predictions\n",
        "            true_label = labels[i].item()\n",
        "            t_pred = teacher_preds[i].item()\n",
        "            d_pred = distilled_preds[i].item()\n",
        "            b_pred = baseline_preds[i].item()\n",
        "\n",
        "            title = f'True: {true_label}\\n'\n",
        "            title += f'T: {t_pred} '\n",
        "            title += '✓' if t_pred == true_label else '✗'\n",
        "            title += f' | D: {d_pred} '\n",
        "            title += '✓' if d_pred == true_label else '✗'\n",
        "            title += f' | B: {b_pred} '\n",
        "            title += '✓' if b_pred == true_label else '✗'\n",
        "\n",
        "            ax.set_title(title, fontsize=10)\n",
        "            ax.axis('off')\n",
        "\n",
        "    plt.suptitle('Model Predictions (T=Teacher, D=Distilled, B=Baseline)', fontsize=14)\n",
        "    plt.tight_layout()\n",
        "    plt.show()\n",
        "\n",
        "visualize_predictions(teacher, student_distilled, student_baseline, test_loader)"
      ]
    },
    {
      "cell_type": "markdown",
      "metadata": {
        "id": "dy6jo5TcnfUh"
      },
      "source": [
        "---\n",
        "\n",
        "# Challenge Section\n"
      ]
    },
    {
      "cell_type": "markdown",
      "metadata": {
        "id": "bMo9SIxonfUh"
      },
      "source": [
        "## Challenge 1: Implement a Different Student Architecture\n",
        "\n",
        "Design a new student architecture that:\n",
        "- Has even fewer parameters than the current student\n",
        "- Uses a different approach (e.g., only fully connected layers, or different conv architecture)\n",
        "- Achieves at least 95% accuracy with distillation\n",
        "\n",
        "**Hint**: You might want to experiment with:\n",
        "- Different kernel sizes\n",
        "- Depthwise separable convolutions\n",
        "- Different activation functions"
      ]
    },
    {
      "cell_type": "code",
      "execution_count": 29,
      "metadata": {
        "id": "9jRqJVZynfUh"
      },
      "outputs": [
        {
          "name": "stdout",
          "output_type": "stream",
          "text": [
            "TinyStudent Parameters: 8,115\n",
            "\n",
            "Training the TinyStudent Network with Knowledge Distillation...\n"
          ]
        },
        {
          "name": "stderr",
          "output_type": "stream",
          "text": [
            "Epoch 1/5: 100%|██████████| 600/600 [00:42<00:00, 14.15it/s, loss=0.33, acc=90.4] \n"
          ]
        },
        {
          "name": "stdout",
          "output_type": "stream",
          "text": [
            "Student (Distilled) - Epoch [1/5], Loss: 1.0900, Accuracy: 90.42%\n"
          ]
        },
        {
          "name": "stderr",
          "output_type": "stream",
          "text": [
            "Epoch 2/5: 100%|██████████| 600/600 [00:41<00:00, 14.37it/s, loss=0.413, acc=96.1]\n"
          ]
        },
        {
          "name": "stdout",
          "output_type": "stream",
          "text": [
            "Student (Distilled) - Epoch [2/5], Loss: 0.3770, Accuracy: 96.13%\n"
          ]
        },
        {
          "name": "stderr",
          "output_type": "stream",
          "text": [
            "Epoch 3/5: 100%|██████████| 600/600 [00:41<00:00, 14.35it/s, loss=0.152, acc=97.1]\n"
          ]
        },
        {
          "name": "stdout",
          "output_type": "stream",
          "text": [
            "Student (Distilled) - Epoch [3/5], Loss: 0.2752, Accuracy: 97.11%\n"
          ]
        },
        {
          "name": "stderr",
          "output_type": "stream",
          "text": [
            "Epoch 4/5: 100%|██████████| 600/600 [00:42<00:00, 14.25it/s, loss=0.321, acc=97.6] \n"
          ]
        },
        {
          "name": "stdout",
          "output_type": "stream",
          "text": [
            "Student (Distilled) - Epoch [4/5], Loss: 0.2263, Accuracy: 97.61%\n"
          ]
        },
        {
          "name": "stderr",
          "output_type": "stream",
          "text": [
            "Epoch 5/5: 100%|██████████| 600/600 [00:42<00:00, 14.25it/s, loss=0.248, acc=97.8] \n"
          ]
        },
        {
          "name": "stdout",
          "output_type": "stream",
          "text": [
            "Student (Distilled) - Epoch [5/5], Loss: 0.1966, Accuracy: 97.81%\n",
            "Student (Distilled) - Test Accuracy: 97.83%\n"
          ]
        }
      ],
      "source": [
        "import torch\n",
        "import torch.nn as nn\n",
        "import torch.nn.functional as F\n",
        "\n",
        "class TinyStudent(nn.Module):\n",
        "    def __init__(self):\n",
        "        super(TinyStudent, self).__init__()\n",
        "        # we split convlutions into dept and point wise\n",
        "        \n",
        "        # 1 → 8 (depthwise + pointwise)\n",
        "        self.depthwise1 = nn.Conv2d(1, 1, kernel_size=3, padding=1, groups=1, bias=False)\n",
        "        self.pointwise1 = nn.Conv2d(1, 8, kernel_size=1, bias=False)\n",
        "        self.bn1 = nn.BatchNorm2d(8)\n",
        "\n",
        "        # 8 → 16 (depthwise + pointwise)\n",
        "        self.depthwise2 = nn.Conv2d(8, 8, kernel_size=3, padding=1, groups=8, bias=False)\n",
        "        self.pointwise2 = nn.Conv2d(8, 16, kernel_size=1, bias=False)\n",
        "        self.bn2 = nn.BatchNorm2d(16)\n",
        "\n",
        "        self.pool = nn.MaxPool2d(2)\n",
        "\n",
        "        # Fully connected layer\n",
        "        self.fc = nn.Linear(16 * 7 * 7, 10)\n",
        "\n",
        "    def forward(self, x):\n",
        "        # First block\n",
        "        x = self.depthwise1(x)\n",
        "        x = self.pointwise1(x)\n",
        "        x = self.bn1(x)\n",
        "        x = F.silu(x)\n",
        "        x = self.pool(x)  # [B, 8, 14, 14]\n",
        "\n",
        "        # Second block\n",
        "        x = self.depthwise2(x)\n",
        "        x = self.pointwise2(x)\n",
        "        x = self.bn2(x)\n",
        "        x = F.silu(x)\n",
        "        x = self.pool(x)  # [B, 16, 7, 7]\n",
        "\n",
        "        x = x.view(x.size(0), -1)  # flatten\n",
        "        x = self.fc(x)\n",
        "        return x\n",
        "tiny_model = TinyStudent()\n",
        "tiny_params = sum(p.numel() for p in tiny_model.parameters())\n",
        "print(f\"TinyStudent Parameters: {tiny_params:,}\")\n",
        "# Initialize student for distillation\n",
        "student_distilled = TinyStudent().to(device)\n",
        "\n",
        "# Train student with knowledge distillation\n",
        "print(\"\\nTraining the TinyStudent Network with Knowledge Distillation...\")\n",
        "distilled_losses, distilled_accs = train_student_distillation(\n",
        "    student_distilled, teacher, train_loader, num_epochs, temperature, alpha\n",
        ")\n",
        "\n",
        "# Test distilled student\n",
        "distilled_accuracy = test_model(student_distilled, test_loader, \"Student (Distilled)\")\n"
      ]
    },
    {
      "cell_type": "markdown",
      "metadata": {
        "id": "rxBVIj_EnfUh"
      },
      "source": [
        "## Challenge 2: Temperature Analysis\n",
        "\n",
        "Investigate how different temperature values affect the student's learning:\n",
        "1. Train students with temperatures T = [1, 3, 5, 10, 20]\n",
        "2. Plot the relationship between temperature and final accuracy\n",
        "3. Explain your findings"
      ]
    },
    {
      "cell_type": "code",
      "execution_count": 33,
      "metadata": {
        "id": "va9z8KEbnfUh"
      },
      "outputs": [
        {
          "name": "stdout",
          "output_type": "stream",
          "text": [
            "\n",
            "Training with temperature = 1\n"
          ]
        },
        {
          "name": "stderr",
          "output_type": "stream",
          "text": [
            "Epoch 1/5: 100%|██████████| 600/600 [00:41<00:00, 14.34it/s, loss=0.0716, acc=92.2]\n"
          ]
        },
        {
          "name": "stdout",
          "output_type": "stream",
          "text": [
            "Student (Distilled) - Epoch [1/5], Loss: 0.2688, Accuracy: 92.17%\n"
          ]
        },
        {
          "name": "stderr",
          "output_type": "stream",
          "text": [
            "Epoch 2/5: 100%|██████████| 600/600 [00:41<00:00, 14.37it/s, loss=0.0292, acc=96.6]\n"
          ]
        },
        {
          "name": "stdout",
          "output_type": "stream",
          "text": [
            "Student (Distilled) - Epoch [2/5], Loss: 0.1067, Accuracy: 96.56%\n"
          ]
        },
        {
          "name": "stderr",
          "output_type": "stream",
          "text": [
            "Epoch 3/5: 100%|██████████| 600/600 [00:41<00:00, 14.35it/s, loss=0.0335, acc=97.2]\n"
          ]
        },
        {
          "name": "stdout",
          "output_type": "stream",
          "text": [
            "Student (Distilled) - Epoch [3/5], Loss: 0.0825, Accuracy: 97.24%\n"
          ]
        },
        {
          "name": "stderr",
          "output_type": "stream",
          "text": [
            "Epoch 4/5: 100%|██████████| 600/600 [00:41<00:00, 14.30it/s, loss=0.0671, acc=97.6]\n"
          ]
        },
        {
          "name": "stdout",
          "output_type": "stream",
          "text": [
            "Student (Distilled) - Epoch [4/5], Loss: 0.0707, Accuracy: 97.62%\n"
          ]
        },
        {
          "name": "stderr",
          "output_type": "stream",
          "text": [
            "Epoch 5/5: 100%|██████████| 600/600 [00:41<00:00, 14.35it/s, loss=0.0705, acc=97.9] \n"
          ]
        },
        {
          "name": "stdout",
          "output_type": "stream",
          "text": [
            "Student (Distilled) - Epoch [5/5], Loss: 0.0624, Accuracy: 97.89%\n",
            "Model - Test Accuracy: 97.75%\n",
            "\n",
            "Training with temperature = 3\n"
          ]
        },
        {
          "name": "stderr",
          "output_type": "stream",
          "text": [
            "Epoch 1/5: 100%|██████████| 600/600 [00:41<00:00, 14.29it/s, loss=0.462, acc=91.5]\n"
          ]
        },
        {
          "name": "stdout",
          "output_type": "stream",
          "text": [
            "Student (Distilled) - Epoch [1/5], Loss: 1.4419, Accuracy: 91.52%\n"
          ]
        },
        {
          "name": "stderr",
          "output_type": "stream",
          "text": [
            "Epoch 2/5: 100%|██████████| 600/600 [00:41<00:00, 14.34it/s, loss=0.38, acc=96.7] \n"
          ]
        },
        {
          "name": "stdout",
          "output_type": "stream",
          "text": [
            "Student (Distilled) - Epoch [2/5], Loss: 0.4057, Accuracy: 96.73%\n"
          ]
        },
        {
          "name": "stderr",
          "output_type": "stream",
          "text": [
            "Epoch 3/5: 100%|██████████| 600/600 [00:41<00:00, 14.34it/s, loss=0.255, acc=97.4]\n"
          ]
        },
        {
          "name": "stdout",
          "output_type": "stream",
          "text": [
            "Student (Distilled) - Epoch [3/5], Loss: 0.3036, Accuracy: 97.45%\n"
          ]
        },
        {
          "name": "stderr",
          "output_type": "stream",
          "text": [
            "Epoch 4/5: 100%|██████████| 600/600 [00:41<00:00, 14.42it/s, loss=0.197, acc=97.8]\n"
          ]
        },
        {
          "name": "stdout",
          "output_type": "stream",
          "text": [
            "Student (Distilled) - Epoch [4/5], Loss: 0.2537, Accuracy: 97.82%\n"
          ]
        },
        {
          "name": "stderr",
          "output_type": "stream",
          "text": [
            "Epoch 5/5: 100%|██████████| 600/600 [00:41<00:00, 14.38it/s, loss=0.15, acc=98.1]  \n"
          ]
        },
        {
          "name": "stdout",
          "output_type": "stream",
          "text": [
            "Student (Distilled) - Epoch [5/5], Loss: 0.2260, Accuracy: 98.06%\n",
            "Model - Test Accuracy: 98.02%\n",
            "\n",
            "Training with temperature = 5\n"
          ]
        },
        {
          "name": "stderr",
          "output_type": "stream",
          "text": [
            "Epoch 1/5: 100%|██████████| 600/600 [00:41<00:00, 14.42it/s, loss=1.03, acc=91.3] \n"
          ]
        },
        {
          "name": "stdout",
          "output_type": "stream",
          "text": [
            "Student (Distilled) - Epoch [1/5], Loss: 2.8350, Accuracy: 91.32%\n"
          ]
        },
        {
          "name": "stderr",
          "output_type": "stream",
          "text": [
            "Epoch 2/5: 100%|██████████| 600/600 [00:41<00:00, 14.41it/s, loss=0.851, acc=96.4]\n"
          ]
        },
        {
          "name": "stdout",
          "output_type": "stream",
          "text": [
            "Student (Distilled) - Epoch [2/5], Loss: 0.8874, Accuracy: 96.36%\n"
          ]
        },
        {
          "name": "stderr",
          "output_type": "stream",
          "text": [
            "Epoch 3/5: 100%|██████████| 600/600 [00:41<00:00, 14.39it/s, loss=0.499, acc=97.3]\n"
          ]
        },
        {
          "name": "stdout",
          "output_type": "stream",
          "text": [
            "Student (Distilled) - Epoch [3/5], Loss: 0.6589, Accuracy: 97.28%\n"
          ]
        },
        {
          "name": "stderr",
          "output_type": "stream",
          "text": [
            "Epoch 4/5: 100%|██████████| 600/600 [00:41<00:00, 14.42it/s, loss=0.522, acc=97.6]\n"
          ]
        },
        {
          "name": "stdout",
          "output_type": "stream",
          "text": [
            "Student (Distilled) - Epoch [4/5], Loss: 0.5570, Accuracy: 97.60%\n"
          ]
        },
        {
          "name": "stderr",
          "output_type": "stream",
          "text": [
            "Epoch 5/5: 100%|██████████| 600/600 [00:41<00:00, 14.35it/s, loss=0.499, acc=97.9]\n"
          ]
        },
        {
          "name": "stdout",
          "output_type": "stream",
          "text": [
            "Student (Distilled) - Epoch [5/5], Loss: 0.5001, Accuracy: 97.86%\n",
            "Model - Test Accuracy: 98.02%\n",
            "\n",
            "Training with temperature = 10\n"
          ]
        },
        {
          "name": "stderr",
          "output_type": "stream",
          "text": [
            "Epoch 1/5: 100%|██████████| 600/600 [00:41<00:00, 14.41it/s, loss=2.1, acc=88.8] \n"
          ]
        },
        {
          "name": "stdout",
          "output_type": "stream",
          "text": [
            "Student (Distilled) - Epoch [1/5], Loss: 4.5901, Accuracy: 88.76%\n"
          ]
        },
        {
          "name": "stderr",
          "output_type": "stream",
          "text": [
            "Epoch 2/5: 100%|██████████| 600/600 [00:42<00:00, 14.26it/s, loss=1.44, acc=95.9]\n"
          ]
        },
        {
          "name": "stdout",
          "output_type": "stream",
          "text": [
            "Student (Distilled) - Epoch [2/5], Loss: 1.5914, Accuracy: 95.89%\n"
          ]
        },
        {
          "name": "stderr",
          "output_type": "stream",
          "text": [
            "Epoch 3/5: 100%|██████████| 600/600 [00:41<00:00, 14.29it/s, loss=1.1, acc=96.7]  \n"
          ]
        },
        {
          "name": "stdout",
          "output_type": "stream",
          "text": [
            "Student (Distilled) - Epoch [3/5], Loss: 1.2469, Accuracy: 96.66%\n"
          ]
        },
        {
          "name": "stderr",
          "output_type": "stream",
          "text": [
            "Epoch 4/5: 100%|██████████| 600/600 [00:41<00:00, 14.38it/s, loss=0.937, acc=97.1]\n"
          ]
        },
        {
          "name": "stdout",
          "output_type": "stream",
          "text": [
            "Student (Distilled) - Epoch [4/5], Loss: 1.0709, Accuracy: 97.07%\n"
          ]
        },
        {
          "name": "stderr",
          "output_type": "stream",
          "text": [
            "Epoch 5/5: 100%|██████████| 600/600 [00:41<00:00, 14.30it/s, loss=0.987, acc=97.3]\n"
          ]
        },
        {
          "name": "stdout",
          "output_type": "stream",
          "text": [
            "Student (Distilled) - Epoch [5/5], Loss: 0.9700, Accuracy: 97.34%\n",
            "Model - Test Accuracy: 97.77%\n",
            "\n",
            "Training with temperature = 20\n"
          ]
        },
        {
          "name": "stderr",
          "output_type": "stream",
          "text": [
            "Epoch 1/5: 100%|██████████| 600/600 [00:41<00:00, 14.37it/s, loss=1.86, acc=89.6]\n"
          ]
        },
        {
          "name": "stdout",
          "output_type": "stream",
          "text": [
            "Student (Distilled) - Epoch [1/5], Loss: 4.1861, Accuracy: 89.61%\n"
          ]
        },
        {
          "name": "stderr",
          "output_type": "stream",
          "text": [
            "Epoch 2/5: 100%|██████████| 600/600 [00:41<00:00, 14.30it/s, loss=1.41, acc=96]  \n"
          ]
        },
        {
          "name": "stdout",
          "output_type": "stream",
          "text": [
            "Student (Distilled) - Epoch [2/5], Loss: 1.5465, Accuracy: 96.00%\n"
          ]
        },
        {
          "name": "stderr",
          "output_type": "stream",
          "text": [
            "Epoch 3/5: 100%|██████████| 600/600 [00:41<00:00, 14.43it/s, loss=1.32, acc=96.7] \n"
          ]
        },
        {
          "name": "stdout",
          "output_type": "stream",
          "text": [
            "Student (Distilled) - Epoch [3/5], Loss: 1.2549, Accuracy: 96.67%\n"
          ]
        },
        {
          "name": "stderr",
          "output_type": "stream",
          "text": [
            "Epoch 4/5: 100%|██████████| 600/600 [00:41<00:00, 14.39it/s, loss=0.986, acc=97.1]\n"
          ]
        },
        {
          "name": "stdout",
          "output_type": "stream",
          "text": [
            "Student (Distilled) - Epoch [4/5], Loss: 1.0993, Accuracy: 97.10%\n"
          ]
        },
        {
          "name": "stderr",
          "output_type": "stream",
          "text": [
            "Epoch 5/5: 100%|██████████| 600/600 [02:12<00:00,  4.52it/s, loss=0.989, acc=97.3]\n"
          ]
        },
        {
          "name": "stdout",
          "output_type": "stream",
          "text": [
            "Student (Distilled) - Epoch [5/5], Loss: 1.0102, Accuracy: 97.31%\n",
            "Model - Test Accuracy: 97.47%\n"
          ]
        },
        {
          "data": {
            "image/png": "[encoded data removed]",
            "text/plain": [
              "<Figure size 800x500 with 1 Axes>"
            ]
          },
          "metadata": {},
          "output_type": "display_data"
        }
      ],
      "source": [
        "temperatures = [1, 3, 5, 10, 20]\n",
        "temperature_results = []\n",
        "\n",
        "# TODO: For each temperature:\n",
        "# 1. Create a new student model\n",
        "# 2. Train it with that temperature\n",
        "# 3. Test it and store the accuracy\n",
        "for temp in temperatures:\n",
        "    print(f\"\\nTraining with temperature = {temp}\")\n",
        "    \n",
        "    # 1. Create a new TinyStudent model\n",
        "    student = TinyStudent().to(device)\n",
        "    \n",
        "    # 2. Train with distillation at current temperature\n",
        "    _, _ = train_student_distillation(\n",
        "        student, teacher, train_loader,\n",
        "        num_epochs= num_epochs,\n",
        "        temperature=temp,\n",
        "        alpha=0.5  \n",
        "    )\n",
        "    \n",
        "    # 3. Test the model and save the accuracy\n",
        "    acc = test_model(student, test_loader)\n",
        "    temperature_results.append(acc)\n",
        "\n",
        "# Create a plot showing temperature vs accuracy\n",
        "\n",
        "# What we can see is that as the temparature increases the output softwmax smoothens out and if goes beyoond a level then learning rate decreases\n",
        "\n",
        "plt.figure(figsize=(8, 5))\n",
        "plt.plot(temperatures, temperature_results, marker='o', linestyle='-')\n",
        "plt.title(\"Effect of Temperature on Distillation Accuracy\")\n",
        "plt.xlabel(\"Temperature\")\n",
        "plt.ylabel(\"Test Accuracy (%)\")\n",
        "plt.grid(True)\n",
        "plt.xticks(temperatures)\n",
        "plt.show()"
      ]
    },
    {
      "cell_type": "markdown",
      "metadata": {
        "id": "2Jmzb2R_nfUh"
      },
      "source": [
        "## Challenge 3: Multi-Teacher Distillation\n",
        "\n",
        "Implement a system where a student learns from multiple teachers:\n",
        "1. Train 3 different teacher architectures\n",
        "2. Combine their knowledge to train a single student\n",
        "3. Compare with single-teacher distillation\n",
        "\n",
        "**Hint**: You can average the soft targets from multiple teachers or use a weighted combination."
      ]
    },
    {
      "cell_type": "code",
      "execution_count": 17,
      "metadata": {
        "id": "hZfDra_infUh"
      },
      "outputs": [],
      "source": [
        "# TODO: Define 3 different teacher architectures\n",
        "class Teacher1(nn.Module):\n",
        "    # Different architecture\n",
        "    pass\n",
        "\n",
        "class Teacher2(nn.Module):\n",
        "    # Different architecture\n",
        "    pass\n",
        "\n",
        "class Teacher3(nn.Module):\n",
        "    # Different architecture\n",
        "    pass\n",
        "\n",
        "# TODO: Implement multi-teacher distillation training function\n",
        "def train_student_multi_teacher(student, teachers, train_loader, num_epochs):\n",
        "    # Your implementation here\n",
        "    pass"
      ]
    },
    {
      "cell_type": "markdown",
      "metadata": {
        "id": "KgRyxjVknfUh"
      },
      "source": [
        "## Challenge 4: Distillation for Other Datasets\n",
        "\n",
        "Apply knowledge distillation to a more complex dataset:\n",
        "1. Use CIFAR-10 dataset (color images, 10 classes)\n",
        "2. Design appropriate teacher and student architectures\n",
        "3. Compare the effectiveness of distillation on CIFAR-10 vs MNIST\n",
        "\n",
        "**Questions to answer**:\n",
        "- Is the improvement from distillation more or less pronounced on CIFAR-10?\n",
        "- What architectural choices work best for color images?"
      ]
    },
    {
      "cell_type": "code",
      "execution_count": 18,
      "metadata": {
        "id": "VkbtD_GOnfUh"
      },
      "outputs": [],
      "source": [
        "# TODO: Load CIFAR-10 dataset\n",
        "# TODO: Design teacher and student architectures for CIFAR-10\n",
        "# TODO: Train and compare results"
      ]
    },
    {
      "cell_type": "markdown",
      "metadata": {
        "id": "1_CJyZcQnfUh"
      },
      "source": [
        "## Challenge 5: Analysis Questions\n",
        "\n",
        "Answer the following questions based on your experiments:\n",
        "\n",
        "1. **Why does knowledge distillation work?** Explain in your own words why learning from soft targets helps the student network.\n",
        "\n",
        "2. **When might distillation fail?** Can you think of scenarios where knowledge distillation might not help or even hurt performance?\n",
        "\n",
        "3. **Real-world applications**: List 3 real-world scenarios where knowledge distillation would be particularly useful.\n",
        "\n",
        "4. **Optimal α value**: Based on your experiments, what seems to be the optimal balance between hard and soft targets? Does this depend on the dataset or architecture?"
      ]
    },
    {
      "cell_type": "code",
      "execution_count": 19,
      "metadata": {
        "id": "Yy3CcB8KnfUh"
      },
      "outputs": [],
      "source": [
        "# Your answers here:\n",
        "# 1. Why does knowledge distillation work?\n",
        "# Answer: Knowledge distillation works because soft targets from the teacher network provide better and required information than hard labels, teacher's outputs show how confident it is across all classes.\n",
        "\n",
        "# 2. When might distillation fail?\n",
        "# Answer:  1.If the teacher is inaccurate, the student may learn incorrect patterns. 2.Choosing the wrong balance between soft and hard loss can lead to poor training. 3. : If teacher and student are trained/tested on very different data types, knowledge may not transfer well.\n",
        "\n",
        "# 3. Real-world applications:\n",
        "# Answer: 1.In cloud services where inference cost matters (e.g., recommendation systems), distillation helps reduce compute 2.Compress large models (like BERT) into tiny versions to run on phones, IoT devices, etc.\n",
        "\n",
        "# 4. Optimal α value:\n",
        "# Answer: Based on experiments, an α value around 0.7, but value depends on student's capacity and quality of the teacher"
      ]
    },
    {
      "cell_type": "markdown",
      "metadata": {
        "id": "UX2wVJ4FnfUl"
      },
      "source": [
        "## Bonus Challenge: Implement Progressive Distillation\n",
        "\n",
        "Implement a progressive distillation approach where:\n",
        "1. Train a large teacher\n",
        "2. Train a medium-sized student from the teacher\n",
        "3. Train a tiny student from the medium student\n",
        "4. Compare this \"chain\" approach with direct distillation from teacher to tiny student"
      ]
    },
    {
      "cell_type": "code",
      "execution_count": 20,
      "metadata": {
        "id": "B0eXYzzznfUl"
      },
      "outputs": [],
      "source": [
        "# TODO: Implement progressive distillation\n",
        "# Your code here"
      ]
    }
  ],
  "metadata": {
    "colab": {
      "include_colab_link": true,
      "provenance": []
    },
    "kernelspec": {
      "display_name": "Python 3",
      "language": "python",
      "name": "python3"
    },
    "language_info": {
      "codemirror_mode": {
        "name": "ipython",
        "version": 3
      },
      "file_extension": ".py",
      "mimetype": "text/x-python",
      "name": "python",
      "nbconvert_exporter": "python",
      "pygments_lexer": "ipython3",
      "version": "3.9.10"
    }
  },
  "nbformat": 4,
  "nbformat_minor": 0
}
